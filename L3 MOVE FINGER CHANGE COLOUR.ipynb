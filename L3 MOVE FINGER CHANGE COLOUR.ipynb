import cv2
from cvzone.HandTrackingModule import HandDetector

cap=cv2.VideoCapture(0)
cap.set(3,1280)
cap.set(4,720)

detector=HandDetector(detectionCon=0.8, maxHands=2)
colorR=(255,0,255)
colorR1=(2555,0,255)

while True:
    success, img=cap.read()
    img=cv2.flip(img,1)
    hands, img=detector.findHands(img)
    
    if hands:
        hand1=hands[0]
        lmList = hand1["lmList"]
        
        if lmList:
            cursor=lmList[8]
            if 100<cursor[0]<300 and 100<cursor[1]<300:
                colorR=255,0,0
 
            
            else:
                colorR=(255,0,255)
                
    cv2.rectangle(img,(100,100),(300,300),colorR,cv2.FILLED)
    
    cv2.imshow("Image",img)
    cv2.waitKey(1)
