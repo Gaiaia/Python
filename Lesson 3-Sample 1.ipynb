{
 "cells": [
  {
   "cell_type": "code",
   "execution_count": null,
   "id": "ecadf963",
   "metadata": {},
   "outputs": [
    {
     "ename": "",
     "evalue": "",
     "output_type": "error",
     "traceback": [
      "\u001b[1;31m无法启动 Jupyter。试图定位jupyter时出错：在解释器 Python 3.9.0 64-bit 中没有安装数据科学库 notebook 和 jupyter。\n",
      "Run the following command to install 'jupyter 和 notebook' into the Python environment. \n",
      "Command: '/usr/local/bin/python3 -m pip install jupyter notebook -U'"
     ]
    }
   ],
   "source": [
    "import cv2\n",
    "from cvzone.HandTrackingModule import HandDetector\n",
    "\n",
    "cap = cv2.VideoCapture(0)\n",
    "cap.set(3,1280)\n",
    "cap.set(4,720)\n",
    "\n",
    "detector = HandDetector(detectionCon=0.8, maxHands=2)\n",
    "\n",
    "colorR =(255,0,255)\n",
    "\n",
    "while True:\n",
    "    \n",
    "    success, img =cap.read()\n",
    "    hands, img = detector.findHands(img)\n",
    "    \n",
    "    cv2.rectangle(img, (100,100),(300,300),colorR,cv2.FILLED)\n",
    "    \n",
    "    cv2.imshow(\"Webcam\",img)\n",
    "    if cv2.waitKey(1) & 0xFF == ord('q'):\n",
    "        break\n",
    "\n",
    "cap.release()\n",
    "cv2.destroyAllWindows()"
   ]
  },
  {
   "cell_type": "code",
   "execution_count": null,
   "id": "a5a89706",
   "metadata": {},
   "outputs": [],
   "source": []
  }
 ],
 "metadata": {
  "kernelspec": {
   "display_name": "Python 3",
   "language": "python",
   "name": "python3"
  },
  "language_info": {
   "codemirror_mode": {
    "name": "ipython",
    "version": 3
   },
   "file_extension": ".py",
   "mimetype": "text/x-python",
   "name": "python",
   "nbconvert_exporter": "python",
   "pygments_lexer": "ipython3",
   "version": "3.9.0"
  }
 },
 "nbformat": 4,
 "nbformat_minor": 5
}
